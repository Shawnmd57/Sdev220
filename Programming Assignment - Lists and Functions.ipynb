{
 "cells": [
  {
   "cell_type": "code",
   "execution_count": 1,
   "id": "6f56d242",
   "metadata": {},
   "outputs": [],
   "source": [
    "#7.4\n",
    "things = [\"mozzarella\", \"cinderella\", \"salmonella\"]"
   ]
  },
  {
   "cell_type": "code",
   "execution_count": 2,
   "id": "e1e08511",
   "metadata": {},
   "outputs": [
    {
     "name": "stdout",
     "output_type": "stream",
     "text": [
      "Before capitalizing: ['mozzarella', 'cinderella', 'salmonella']\n",
      "After capitalizing: ['mozzarella', 'Cinderella', 'salmonella']\n"
     ]
    }
   ],
   "source": [
    "#7.5\n",
    "things = [\"mozzarella\", \"cinderella\", \"salmonella\"]\n",
    "print(\"Before capitalizing:\", things)\n",
    "\n",
    "# Capitalizes the element referring to a person\n",
    "things[1] = things[1].capitalize()\n",
    "\n",
    "print(\"After capitalizing:\", things)"
   ]
  },
  {
   "cell_type": "code",
   "execution_count": 3,
   "id": "b3690ca8",
   "metadata": {},
   "outputs": [
    {
     "name": "stdout",
     "output_type": "stream",
     "text": [
      "Before uppercasing: ['mozzarella', 'cinderella', 'salmonella']\n",
      "After uppercasing: ['MOZZARELLA', 'cinderella', 'salmonella']\n"
     ]
    }
   ],
   "source": [
    "#7.6\n",
    "things = [\"mozzarella\", \"cinderella\", \"salmonella\"]\n",
    "print(\"Before uppercasing:\", things)\n",
    "\n",
    "# Uppercases the cheesy element\n",
    "things[0] = things[0].upper()\n",
    "\n",
    "print(\"After uppercasing:\", things)"
   ]
  },
  {
   "cell_type": "code",
   "execution_count": 4,
   "id": "454e8119",
   "metadata": {},
   "outputs": [
    {
     "name": "stdout",
     "output_type": "stream",
     "text": [
      "Before deleting: ['mozzarella', 'cinderella', 'salmonella']\n",
      "After deleting: ['mozzarella', 'cinderella']\n"
     ]
    }
   ],
   "source": [
    "#7.7\n",
    "things = [\"mozzarella\", \"cinderella\", \"salmonella\"]\n",
    "print(\"Before deleting:\", things)\n",
    "\n",
    "# Delete the disease element\n",
    "del things[2]\n",
    "\n",
    "print(\"After deleting:\", things)"
   ]
  },
  {
   "cell_type": "code",
   "execution_count": 5,
   "id": "e3e27c2a",
   "metadata": {},
   "outputs": [],
   "source": [
    "#9.1\n",
    "def good():\n",
    "    return ['Harry', 'Ron', 'Hermione']"
   ]
  },
  {
   "cell_type": "code",
   "execution_count": 6,
   "id": "1268b59d",
   "metadata": {},
   "outputs": [
    {
     "name": "stdout",
     "output_type": "stream",
     "text": [
      "Third odd number: 5\n"
     ]
    }
   ],
   "source": [
    "#9.2\n",
    "def get_odds():\n",
    "    for num in range(1, 10, 2):\n",
    "        yield num\n",
    "count = 1\n",
    "for number in get_odds():\n",
    "    if count == 3:\n",
    "        print(\"Third odd number:\", number)\n",
    "        break\n",
    "    count += 1"
   ]
  },
  {
   "cell_type": "code",
   "execution_count": null,
   "id": "2aada741",
   "metadata": {},
   "outputs": [],
   "source": []
  }
 ],
 "metadata": {
  "kernelspec": {
   "display_name": "Python 3 (ipykernel)",
   "language": "python",
   "name": "python3"
  },
  "language_info": {
   "codemirror_mode": {
    "name": "ipython",
    "version": 3
   },
   "file_extension": ".py",
   "mimetype": "text/x-python",
   "name": "python",
   "nbconvert_exporter": "python",
   "pygments_lexer": "ipython3",
   "version": "3.11.5"
  }
 },
 "nbformat": 4,
 "nbformat_minor": 5
}
