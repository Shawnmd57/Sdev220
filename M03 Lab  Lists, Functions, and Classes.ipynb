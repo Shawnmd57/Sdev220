{
 "cells": [
  {
   "cell_type": "code",
   "execution_count": null,
   "id": "1a56cbca",
   "metadata": {},
   "outputs": [],
   "source": [
    "class Vehicle:\n",
    "    def __init__(self, vehicle_type):\n",
    "        self.vehicle_type = vehicle_type\n",
    "\n",
    "class Automobile(Vehicle):\n",
    "    def __init__(self, vehicle_type, year, make, model, doors, roof):\n",
    "        super().__init__(vehicle_type)\n",
    "        self.year = year\n",
    "        self.make = make\n",
    "        self.model = model\n",
    "        self.doors = doors\n",
    "        self.roof = roof\n",
    "\n",
    "    def __str__(self):\n",
    "        return (f\"Vehicle type: {self.vehicle_type}\\n\"\n",
    "                f\"Year: {self.year}\\n\"\n",
    "                f\"Make: {self.make}\\n\"\n",
    "                f\"Model: {self.model}\\n\"\n",
    "                f\"Number of doors: {self.doors}\\n\"\n",
    "                f\"Type of roof: {self.roof}\")\n",
    "\n",
    "def main():\n",
    "    vehicle_type = \"car\"\n",
    "    year = input(\"Enter the car's year: \")\n",
    "    make = input(\"Enter the car's make: \")\n",
    "    model = input(\"Enter the car's model: \")\n",
    "    doors = input(\"Enter the number of doors (2 or 4): \")\n",
    "    roof = input(\"Enter the type of roof (solid or sun roof): \")\n",
    "    \n",
    "    # Validate doors\n",
    "    if doors not in (\"2\", \"4\"):\n",
    "        print(\"Invalid number of doors. It must be 2 or 4.\")\n",
    "        return\n",
    "    # Validate roof\n",
    "    if roof not in (\"solid\", \"sun roof\"):\n",
    "        print(\"Invalid type of roof. It must be 'solid' or 'sun roof'.\")\n",
    "        return\n",
    "    \n",
    "    car = Automobile(vehicle_type, year, make, model, doors, roof)\n",
    "    print(\"\\nVehicle Details:\\n\" + str(car))\n",
    "\n",
    "if __name__ == \"__main__\":\n",
    "    main()"
   ]
  }
 ],
 "metadata": {
  "kernelspec": {
   "display_name": "Python 3 (ipykernel)",
   "language": "python",
   "name": "python3"
  },
  "language_info": {
   "codemirror_mode": {
    "name": "ipython",
    "version": 3
   },
   "file_extension": ".py",
   "mimetype": "text/x-python",
   "name": "python",
   "nbconvert_exporter": "python",
   "pygments_lexer": "ipython3",
   "version": "3.11.5"
  }
 },
 "nbformat": 4,
 "nbformat_minor": 5
}
