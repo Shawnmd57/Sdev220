class Vehicle:
    def __init__(self, vehicle_type):
        self.vehicle_type = vehicle_type

class Automobile(Vehicle):
    def __init__(self, vehicle_type, year, make, model, doors, roof):
        super().__init__(vehicle_type)
        self.year = year
        self.make = make
        self.model = model
        self.doors = doors
        self.roof = roof

    def __str__(self):
        return (f"Vehicle type: {self.vehicle_type}\n"
                f"Year: {self.year}\n"
                f"Make: {self.make}\n"
                f"Model: {self.model}\n"
                f"Number of doors: {self.doors}\n"
                f"Type of roof: {self.roof}")

def main():
    vehicle_type = "car"
    year = input("Enter the car's year: ")
    make = input("Enter the car's make: ")
    model = input("Enter the car's model: ")
    doors = input("Enter the number of doors (2 or 4): ")
    roof = input("Enter the type of roof (solid or sun roof): ")
    
    # Validate doors
    if doors not in ("2", "4"):
        print("Invalid number of doors. It must be 2 or 4.")
        return
    # Validate roof
    if roof not in ("solid", "sun roof"):
        print("Invalid type of roof. It must be 'solid' or 'sun roof'.")
        return
    
    car = Automobile(vehicle_type, year, make, model, doors, roof)
    print("\nVehicle Details:\n" + str(car))

if __name__ == "__main__":
    main()
