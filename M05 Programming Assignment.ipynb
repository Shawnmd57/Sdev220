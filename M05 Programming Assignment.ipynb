{
 "cells": [
  {
   "cell_type": "code",
   "execution_count": null,
   "id": "080bbc87",
   "metadata": {},
   "outputs": [],
   "source": [
    "----------Testing Your Code----------"
   ]
  },
  {
   "cell_type": "code",
   "execution_count": 3,
   "id": "e4e89f2d",
   "metadata": {},
   "outputs": [],
   "source": [
    ">>> assert sum([1, 2, 3]) == 6, \"Should be 6\""
   ]
  },
  {
   "cell_type": "code",
   "execution_count": 4,
   "id": "73de5581",
   "metadata": {},
   "outputs": [
    {
     "ename": "AssertionError",
     "evalue": "Should be 6",
     "output_type": "error",
     "traceback": [
      "\u001b[1;31m---------------------------------------------------------------------------\u001b[0m",
      "\u001b[1;31mAssertionError\u001b[0m                            Traceback (most recent call last)",
      "Cell \u001b[1;32mIn[4], line 1\u001b[0m\n\u001b[1;32m----> 1\u001b[0m \u001b[38;5;28;01massert\u001b[39;00m \u001b[38;5;28msum\u001b[39m([\u001b[38;5;241m1\u001b[39m, \u001b[38;5;241m1\u001b[39m, \u001b[38;5;241m1\u001b[39m]) \u001b[38;5;241m==\u001b[39m \u001b[38;5;241m6\u001b[39m, \u001b[38;5;124m\"\u001b[39m\u001b[38;5;124mShould be 6\u001b[39m\u001b[38;5;124m\"\u001b[39m\n",
      "\u001b[1;31mAssertionError\u001b[0m: Should be 6"
     ]
    }
   ],
   "source": [
    ">>> assert sum([1, 1, 1]) == 6, \"Should be 6\""
   ]
  },
  {
   "cell_type": "code",
   "execution_count": 5,
   "id": "b06807c5",
   "metadata": {},
   "outputs": [
    {
     "name": "stdout",
     "output_type": "stream",
     "text": [
      "Everything passed\n"
     ]
    }
   ],
   "source": [
    "def test_sum():\n",
    "    assert sum([1, 2, 3]) == 6, \"Should be 6\"\n",
    "\n",
    "if __name__ == \"__main__\":\n",
    "    test_sum()\n",
    "    print(\"Everything passed\")"
   ]
  },
  {
   "cell_type": "code",
   "execution_count": 6,
   "id": "c5d73c49",
   "metadata": {},
   "outputs": [
    {
     "ename": "AssertionError",
     "evalue": "Should be 6",
     "output_type": "error",
     "traceback": [
      "\u001b[1;31m---------------------------------------------------------------------------\u001b[0m",
      "\u001b[1;31mAssertionError\u001b[0m                            Traceback (most recent call last)",
      "Cell \u001b[1;32mIn[6], line 9\u001b[0m\n\u001b[0;32m      7\u001b[0m \u001b[38;5;28;01mif\u001b[39;00m \u001b[38;5;18m__name__\u001b[39m \u001b[38;5;241m==\u001b[39m \u001b[38;5;124m\"\u001b[39m\u001b[38;5;124m__main__\u001b[39m\u001b[38;5;124m\"\u001b[39m:\n\u001b[0;32m      8\u001b[0m     test_sum()\n\u001b[1;32m----> 9\u001b[0m     test_sum_tuple()\n\u001b[0;32m     10\u001b[0m     \u001b[38;5;28mprint\u001b[39m(\u001b[38;5;124m\"\u001b[39m\u001b[38;5;124mEverything passed\u001b[39m\u001b[38;5;124m\"\u001b[39m)\n",
      "Cell \u001b[1;32mIn[6], line 5\u001b[0m, in \u001b[0;36mtest_sum_tuple\u001b[1;34m()\u001b[0m\n\u001b[0;32m      4\u001b[0m \u001b[38;5;28;01mdef\u001b[39;00m \u001b[38;5;21mtest_sum_tuple\u001b[39m():\n\u001b[1;32m----> 5\u001b[0m     \u001b[38;5;28;01massert\u001b[39;00m \u001b[38;5;28msum\u001b[39m((\u001b[38;5;241m1\u001b[39m, \u001b[38;5;241m2\u001b[39m, \u001b[38;5;241m2\u001b[39m)) \u001b[38;5;241m==\u001b[39m \u001b[38;5;241m6\u001b[39m, \u001b[38;5;124m\"\u001b[39m\u001b[38;5;124mShould be 6\u001b[39m\u001b[38;5;124m\"\u001b[39m\n",
      "\u001b[1;31mAssertionError\u001b[0m: Should be 6"
     ]
    }
   ],
   "source": [
    "def test_sum():\n",
    "    assert sum([1, 2, 3]) == 6, \"Should be 6\"\n",
    "\n",
    "def test_sum_tuple():\n",
    "    assert sum((1, 2, 2)) == 6, \"Should be 6\"\n",
    "\n",
    "if __name__ == \"__main__\":\n",
    "    test_sum()\n",
    "    test_sum_tuple()\n",
    "    print(\"Everything passed\")"
   ]
  },
  {
   "cell_type": "code",
   "execution_count": 7,
   "id": "e26e8181",
   "metadata": {},
   "outputs": [
    {
     "ename": "AssertionError",
     "evalue": "Should be 6",
     "output_type": "error",
     "traceback": [
      "\u001b[1;31m---------------------------------------------------------------------------\u001b[0m",
      "\u001b[1;31mAssertionError\u001b[0m                            Traceback (most recent call last)",
      "Cell \u001b[1;32mIn[7], line 9\u001b[0m\n\u001b[0;32m      7\u001b[0m \u001b[38;5;28;01mif\u001b[39;00m \u001b[38;5;18m__name__\u001b[39m \u001b[38;5;241m==\u001b[39m \u001b[38;5;124m\"\u001b[39m\u001b[38;5;124m__main__\u001b[39m\u001b[38;5;124m\"\u001b[39m:\n\u001b[0;32m      8\u001b[0m     test_sum()\n\u001b[1;32m----> 9\u001b[0m     test_sum_tuple()\n\u001b[0;32m     10\u001b[0m     \u001b[38;5;28mprint\u001b[39m(\u001b[38;5;124m\"\u001b[39m\u001b[38;5;124mEverything passed\u001b[39m\u001b[38;5;124m\"\u001b[39m)\n",
      "Cell \u001b[1;32mIn[7], line 5\u001b[0m, in \u001b[0;36mtest_sum_tuple\u001b[1;34m()\u001b[0m\n\u001b[0;32m      4\u001b[0m \u001b[38;5;28;01mdef\u001b[39;00m \u001b[38;5;21mtest_sum_tuple\u001b[39m():\n\u001b[1;32m----> 5\u001b[0m     \u001b[38;5;28;01massert\u001b[39;00m \u001b[38;5;28msum\u001b[39m((\u001b[38;5;241m1\u001b[39m, \u001b[38;5;241m2\u001b[39m, \u001b[38;5;241m2\u001b[39m)) \u001b[38;5;241m==\u001b[39m \u001b[38;5;241m6\u001b[39m, \u001b[38;5;124m\"\u001b[39m\u001b[38;5;124mShould be 6\u001b[39m\u001b[38;5;124m\"\u001b[39m\n",
      "\u001b[1;31mAssertionError\u001b[0m: Should be 6"
     ]
    }
   ],
   "source": [
    "def test_sum():\n",
    "    assert sum([1, 2, 3]) == 6, \"Should be 6\"\n",
    "\n",
    "def test_sum_tuple():\n",
    "    assert sum((1, 2, 2)) == 6, \"Should be 6\"\n",
    "\n",
    "if __name__ == \"__main__\":\n",
    "    test_sum()\n",
    "    test_sum_tuple()\n",
    "    print(\"Everything passed\")"
   ]
  },
  {
   "cell_type": "code",
   "execution_count": 8,
   "id": "78315935",
   "metadata": {},
   "outputs": [
    {
     "name": "stderr",
     "output_type": "stream",
     "text": [
      "E\n",
      "======================================================================\n",
      "ERROR: C:\\Users\\shawn\\AppData\\Roaming\\jupyter\\runtime\\kernel-3004772d-543f-44df-a567-9dc164530c98 (unittest.loader._FailedTest.C:\\Users\\shawn\\AppData\\Roaming\\jupyter\\runtime\\kernel-3004772d-543f-44df-a567-9dc164530c98)\n",
      "----------------------------------------------------------------------\n",
      "AttributeError: module '__main__' has no attribute 'C:\\Users\\shawn\\AppData\\Roaming\\jupyter\\runtime\\kernel-3004772d-543f-44df-a567-9dc164530c98'\n",
      "\n",
      "----------------------------------------------------------------------\n",
      "Ran 1 test in 0.001s\n",
      "\n",
      "FAILED (errors=1)\n"
     ]
    },
    {
     "ename": "SystemExit",
     "evalue": "True",
     "output_type": "error",
     "traceback": [
      "An exception has occurred, use %tb to see the full traceback.\n",
      "\u001b[1;31mSystemExit\u001b[0m\u001b[1;31m:\u001b[0m True\n"
     ]
    },
    {
     "name": "stderr",
     "output_type": "stream",
     "text": [
      "C:\\Users\\shawn\\anaconda3\\Lib\\site-packages\\IPython\\core\\interactiveshell.py:3534: UserWarning: To exit: use 'exit', 'quit', or Ctrl-D.\n",
      "  warn(\"To exit: use 'exit', 'quit', or Ctrl-D.\", stacklevel=1)\n"
     ]
    }
   ],
   "source": [
    "import unittest\n",
    "\n",
    "\n",
    "class TestSum(unittest.TestCase):\n",
    "\n",
    "    def test_sum(self):\n",
    "        self.assertEqual(sum([1, 2, 3]), 6, \"Should be 6\")\n",
    "\n",
    "    def test_sum_tuple(self):\n",
    "        self.assertEqual(sum((1, 2, 2)), 6, \"Should be 6\")\n",
    "\n",
    "if __name__ == '__main__':\n",
    "    unittest.main()"
   ]
  },
  {
   "cell_type": "code",
   "execution_count": null,
   "id": "82a386c4",
   "metadata": {},
   "outputs": [],
   "source": [
    "C:\\Users\\shawn\\Dev\\SDEV220 Local\\M05 Programming Assignment - Testing>python test_sum_2.py\n",
    "Traceback (most recent call last):\n",
    "  File \"C:\\Users\\shawn\\Dev\\SDEV220 Local\\M05 Programming Assignment - Testing\\test_sum_2.py\", line 9, in <module>\n",
    "    test_sum_tuple()\n",
    "  File \"C:\\Users\\shawn\\Dev\\SDEV220 Local\\M05 Programming Assignment - Testing\\test_sum_2.py\", line 5, in test_sum_tuple\n",
    "    assert sum((1, 2, 2)) == 6, \"Should be 6\"\n",
    "           ^^^^^^^^^^^^^^^^^^^\n",
    "AssertionError: Should be 6\n"
   ]
  },
  {
   "cell_type": "code",
   "execution_count": null,
   "id": "1abc9456",
   "metadata": {},
   "outputs": [],
   "source": [
    "C:\\Users\\shawn\\Dev\\SDEV220 Local\\M05 Programming Assignment - Testing>python test_sum_unittest.py\n",
    ".F\n",
    "======================================================================\n",
    "FAIL: test_sum_tuple (__main__.TestSum.test_sum_tuple)\n",
    "----------------------------------------------------------------------\n",
    "Traceback (most recent call last):\n",
    "  File \"C:\\Users\\shawn\\Dev\\SDEV220 Local\\M05 Programming Assignment - Testing\\test_sum_unittest.py\", line 10, in test_sum_tuple\n",
    "    self.assertEqual(sum((1, 2, 2)), 6, \"Should be 6\")\n",
    "AssertionError: 5 != 6 : Should be 6\n",
    "\n",
    "----------------------------------------------------------------------\n",
    "Ran 2 tests in 0.001s\n",
    "\n",
    "FAILED (failures=1)\n"
   ]
  },
  {
   "cell_type": "code",
   "execution_count": null,
   "id": "6fc423de",
   "metadata": {},
   "outputs": [],
   "source": [
    "C:\\Users\\shawn\\Dev\\SDEV220 Local\\M05 Programming Assignment - Testing>python -m nose2\n",
    ".F.F\n",
    "======================================================================\n",
    "FAIL: test_sum_2.test_sum_tuple\n",
    "----------------------------------------------------------------------\n",
    "Traceback (most recent call last):\n",
    "  File \"C:\\Users\\shawn\\Dev\\SDEV220 Local\\M05 Programming Assignment - Testing\\test_sum_2.py\", line 5, in test_sum_tuple\n",
    "    assert sum((1, 2, 2)) == 6, \"Should be 6\"\n",
    "           ^^^^^^^^^^^^^^^^^^^\n",
    "AssertionError: Should be 6\n",
    "\n",
    "======================================================================\n",
    "FAIL: test_sum_tuple (test_sum_unittest.TestSum.test_sum_tuple)\n",
    "----------------------------------------------------------------------\n",
    "Traceback (most recent call last):\n",
    "  File \"C:\\Users\\shawn\\Dev\\SDEV220 Local\\M05 Programming Assignment - Testing\\test_sum_unittest.py\", line 10, in test_sum_tuple\n",
    "    self.assertEqual(sum((1, 2, 2)), 6, \"Should be 6\")\n",
    "AssertionError: 5 != 6 : Should be 6\n",
    "\n",
    "----------------------------------------------------------------------\n",
    "Ran 4 tests in 0.001s"
   ]
  },
  {
   "cell_type": "code",
   "execution_count": 9,
   "id": "c6fed221",
   "metadata": {},
   "outputs": [],
   "source": [
    "def test_sum():\n",
    "    assert sum([1, 2, 3]) == 6, \"Should be 6\"\n",
    "\n",
    "def test_sum_tuple():\n",
    "    assert sum((1, 2, 2)) == 6, \"Should be 6\""
   ]
  },
  {
   "cell_type": "code",
   "execution_count": null,
   "id": "996cea5f",
   "metadata": {},
   "outputs": [],
   "source": [
    "----------Writing Your First Test----------"
   ]
  },
  {
   "cell_type": "code",
   "execution_count": 10,
   "id": "abdccdc7",
   "metadata": {},
   "outputs": [],
   "source": [
    "def sum(arg):\n",
    "    total = 0\n",
    "    for val in arg:\n",
    "        total += val\n",
    "    return total"
   ]
  },
  {
   "cell_type": "code",
   "execution_count": 11,
   "id": "4a1865cb",
   "metadata": {},
   "outputs": [
    {
     "ename": "ModuleNotFoundError",
     "evalue": "No module named 'my_sum'",
     "output_type": "error",
     "traceback": [
      "\u001b[1;31m---------------------------------------------------------------------------\u001b[0m",
      "\u001b[1;31mModuleNotFoundError\u001b[0m                       Traceback (most recent call last)",
      "Cell \u001b[1;32mIn[11], line 3\u001b[0m\n\u001b[0;32m      1\u001b[0m \u001b[38;5;28;01mimport\u001b[39;00m \u001b[38;5;21;01munittest\u001b[39;00m\n\u001b[1;32m----> 3\u001b[0m \u001b[38;5;28;01mfrom\u001b[39;00m \u001b[38;5;21;01mmy_sum\u001b[39;00m \u001b[38;5;28;01mimport\u001b[39;00m \u001b[38;5;28msum\u001b[39m\n\u001b[0;32m      6\u001b[0m \u001b[38;5;28;01mclass\u001b[39;00m \u001b[38;5;21;01mTestSum\u001b[39;00m(unittest\u001b[38;5;241m.\u001b[39mTestCase):\n\u001b[0;32m      7\u001b[0m     \u001b[38;5;28;01mdef\u001b[39;00m \u001b[38;5;21mtest_list_int\u001b[39m(\u001b[38;5;28mself\u001b[39m):\n",
      "\u001b[1;31mModuleNotFoundError\u001b[0m: No module named 'my_sum'"
     ]
    }
   ],
   "source": [
    "import unittest\n",
    "\n",
    "from my_sum import sum\n",
    "\n",
    "\n",
    "class TestSum(unittest.TestCase):\n",
    "    def test_list_int(self):\n",
    "        \"\"\"\n",
    "        Test that it can sum a list of integers\n",
    "        \"\"\"\n",
    "        data = [1, 2, 3]\n",
    "        result = sum(data)\n",
    "        self.assertEqual(result, 6)\n",
    "\n",
    "if __name__ == '__main__':\n",
    "    unittest.main()"
   ]
  },
  {
   "cell_type": "code",
   "execution_count": 12,
   "id": "aedb2442",
   "metadata": {},
   "outputs": [
    {
     "name": "stderr",
     "output_type": "stream",
     "text": [
      "E\n",
      "======================================================================\n",
      "ERROR: C:\\Users\\shawn\\AppData\\Roaming\\jupyter\\runtime\\kernel-3004772d-543f-44df-a567-9dc164530c98 (unittest.loader._FailedTest.C:\\Users\\shawn\\AppData\\Roaming\\jupyter\\runtime\\kernel-3004772d-543f-44df-a567-9dc164530c98)\n",
      "----------------------------------------------------------------------\n",
      "AttributeError: module '__main__' has no attribute 'C:\\Users\\shawn\\AppData\\Roaming\\jupyter\\runtime\\kernel-3004772d-543f-44df-a567-9dc164530c98'\n",
      "\n",
      "----------------------------------------------------------------------\n",
      "Ran 1 test in 0.001s\n",
      "\n",
      "FAILED (errors=1)\n"
     ]
    },
    {
     "ename": "SystemExit",
     "evalue": "True",
     "output_type": "error",
     "traceback": [
      "An exception has occurred, use %tb to see the full traceback.\n",
      "\u001b[1;31mSystemExit\u001b[0m\u001b[1;31m:\u001b[0m True\n"
     ]
    },
    {
     "name": "stderr",
     "output_type": "stream",
     "text": [
      "C:\\Users\\shawn\\anaconda3\\Lib\\site-packages\\IPython\\core\\interactiveshell.py:3534: UserWarning: To exit: use 'exit', 'quit', or Ctrl-D.\n",
      "  warn(\"To exit: use 'exit', 'quit', or Ctrl-D.\", stacklevel=1)\n"
     ]
    }
   ],
   "source": [
    "import unittest\n",
    "\n",
    "def sum(arg):\n",
    "    total = 0\n",
    "    for val in arg:\n",
    "        total += val\n",
    "    return total\n",
    "\n",
    "class TestSum(unittest.TestCase):\n",
    "    def test_list_int(self):\n",
    "        \"\"\"\n",
    "        Test that it can sum a list of integers\n",
    "        \"\"\"\n",
    "        data = [1, 2, 3]\n",
    "        result = sum(data)\n",
    "        self.assertEqual(result, 6)\n",
    "\n",
    "if __name__ == '__main__':\n",
    "    unittest.main()"
   ]
  },
  {
   "cell_type": "code",
   "execution_count": 13,
   "id": "35f03020",
   "metadata": {},
   "outputs": [],
   "source": [
    "import unittest\n",
    "\n",
    "def sum(arg):\n",
    "    total = 0\n",
    "    for val in arg:\n",
    "        total += val\n",
    "    return total\n",
    "\n",
    "class TestSum(unittest.TestCase):\n",
    "    def test_list_int(self):\n",
    "        \"\"\"\n",
    "        Test that it can sum a list of integers\n",
    "        \"\"\"\n",
    "        data = [1, 2, 3]\n",
    "        result = sum(data)\n",
    "        self.assertEqual(result, 6)\n"
   ]
  },
  {
   "cell_type": "code",
   "execution_count": 14,
   "id": "75480923",
   "metadata": {},
   "outputs": [
    {
     "name": "stderr",
     "output_type": "stream",
     "text": [
      "E\n",
      "======================================================================\n",
      "ERROR: C:\\Users\\shawn\\AppData\\Roaming\\jupyter\\runtime\\kernel-3004772d-543f-44df-a567-9dc164530c98 (unittest.loader._FailedTest.C:\\Users\\shawn\\AppData\\Roaming\\jupyter\\runtime\\kernel-3004772d-543f-44df-a567-9dc164530c98)\n",
      "----------------------------------------------------------------------\n",
      "AttributeError: module '__main__' has no attribute 'C:\\Users\\shawn\\AppData\\Roaming\\jupyter\\runtime\\kernel-3004772d-543f-44df-a567-9dc164530c98'\n",
      "\n",
      "----------------------------------------------------------------------\n",
      "Ran 1 test in 0.001s\n",
      "\n",
      "FAILED (errors=1)\n"
     ]
    },
    {
     "ename": "SystemExit",
     "evalue": "True",
     "output_type": "error",
     "traceback": [
      "An exception has occurred, use %tb to see the full traceback.\n",
      "\u001b[1;31mSystemExit\u001b[0m\u001b[1;31m:\u001b[0m True\n"
     ]
    },
    {
     "name": "stderr",
     "output_type": "stream",
     "text": [
      "C:\\Users\\shawn\\anaconda3\\Lib\\site-packages\\IPython\\core\\interactiveshell.py:3534: UserWarning: To exit: use 'exit', 'quit', or Ctrl-D.\n",
      "  warn(\"To exit: use 'exit', 'quit', or Ctrl-D.\", stacklevel=1)\n"
     ]
    }
   ],
   "source": [
    "if __name__ == '__main__':\n",
    "    unittest.main()"
   ]
  },
  {
   "cell_type": "code",
   "execution_count": null,
   "id": "4ea66a19",
   "metadata": {},
   "outputs": [],
   "source": [
    "----------Executing Your First Test----------"
   ]
  },
  {
   "cell_type": "code",
   "execution_count": null,
   "id": "a555b85e",
   "metadata": {},
   "outputs": [],
   "source": [
    "C:\\Users\\shawn\\Dev\\SDEV220 Local\\M05 Programming Assignment - Testing>python -m unittest discover\n",
    ".F\n",
    "======================================================================\n",
    "FAIL: test_sum_tuple (test_sum_unittest.TestSum.test_sum_tuple)\n",
    "----------------------------------------------------------------------\n",
    "Traceback (most recent call last):\n",
    "  File \"C:\\Users\\shawn\\Dev\\SDEV220 Local\\M05 Programming Assignment - Testing\\test_sum_unittest.py\", line 10, in test_sum_tuple\n",
    "    self.assertEqual(sum((1, 2, 2)), 6, \"Should be 6\")\n",
    "AssertionError: 5 != 6 : Should be 6\n",
    "\n",
    "----------------------------------------------------------------------\n",
    "Ran 2 tests in 0.012s\n",
    "\n",
    "FAILED (failures=1)\n",
    "\n",
    "C:\\Users\\shawn\\Dev\\SDEV220 Local\\M05 Programming Assignment - Testing>"
   ]
  },
  {
   "cell_type": "code",
   "execution_count": 15,
   "id": "ebad7c76",
   "metadata": {},
   "outputs": [],
   "source": [
    "from fractions import Fraction"
   ]
  },
  {
   "cell_type": "code",
   "execution_count": 17,
   "id": "761fda3f",
   "metadata": {},
   "outputs": [
    {
     "name": "stderr",
     "output_type": "stream",
     "text": [
      "E\n",
      "======================================================================\n",
      "ERROR: C:\\Users\\shawn\\AppData\\Roaming\\jupyter\\runtime\\kernel-3004772d-543f-44df-a567-9dc164530c98 (unittest.loader._FailedTest.C:\\Users\\shawn\\AppData\\Roaming\\jupyter\\runtime\\kernel-3004772d-543f-44df-a567-9dc164530c98)\n",
      "----------------------------------------------------------------------\n",
      "AttributeError: module '__main__' has no attribute 'C:\\Users\\shawn\\AppData\\Roaming\\jupyter\\runtime\\kernel-3004772d-543f-44df-a567-9dc164530c98'\n",
      "\n",
      "----------------------------------------------------------------------\n",
      "Ran 1 test in 0.002s\n",
      "\n",
      "FAILED (errors=1)\n"
     ]
    },
    {
     "ename": "SystemExit",
     "evalue": "True",
     "output_type": "error",
     "traceback": [
      "An exception has occurred, use %tb to see the full traceback.\n",
      "\u001b[1;31mSystemExit\u001b[0m\u001b[1;31m:\u001b[0m True\n"
     ]
    },
    {
     "name": "stderr",
     "output_type": "stream",
     "text": [
      "C:\\Users\\shawn\\anaconda3\\Lib\\site-packages\\IPython\\core\\interactiveshell.py:3534: UserWarning: To exit: use 'exit', 'quit', or Ctrl-D.\n",
      "  warn(\"To exit: use 'exit', 'quit', or Ctrl-D.\", stacklevel=1)\n"
     ]
    }
   ],
   "source": [
    "import unittest\n",
    "\n",
    "def sum(arg):\n",
    "    total = 0\n",
    "    for val in arg:\n",
    "        total += val\n",
    "    return total\n",
    "\n",
    "\n",
    "class TestSum(unittest.TestCase):\n",
    "    def test_list_int(self):\n",
    "        \"\"\"\n",
    "        Test that it can sum a list of integers\n",
    "        \"\"\"\n",
    "        data = [1, 2, 3]\n",
    "        result = sum(data)\n",
    "        self.assertEqual(result, 6)\n",
    "\n",
    "    def test_list_fraction(self):\n",
    "        \"\"\"\n",
    "        Test that it can sum a list of fractions\n",
    "        \"\"\"\n",
    "        data = [Fraction(1, 4), Fraction(1, 4), Fraction(2, 5)]\n",
    "        result = sum(data)\n",
    "        self.assertEqual(result, 1)\n",
    "\n",
    "if __name__ == '__main__':\n",
    "    unittest.main()"
   ]
  },
  {
   "cell_type": "code",
   "execution_count": null,
   "id": "e8534cad",
   "metadata": {},
   "outputs": [],
   "source": [
    "C:\\Users\\shawn\\Dev\\SDEV220 Local\\M05 Programming Assignment - Testing>python -m unittest test\n",
    "F.\n",
    "======================================================================\n",
    "FAIL: test_list_fraction (test.TestSum)\n",
    "----------------------------------------------------------------------\n",
    "Traceback (most recent call last):\n",
    "  File \"test.py\", line 21, in test_list_fraction\n",
    "    self.assertEqual(result, 1)\n",
    "AssertionError: Fraction(9, 10) != 1\n",
    "\n",
    "----------------------------------------------------------------------\n",
    "Ran 2 tests in 0.001s\n",
    "\n",
    "FAILED (failures=1)"
   ]
  },
  {
   "cell_type": "code",
   "execution_count": null,
   "metadata": {},
   "outputs": [],
   "source": [
    "#In this programming assignment, I've come to realize that Jupyter Notebook is a great tool for testing small snippets of code.\n",
    "# For anything beyond that, I can't seem to come up with any reason that Jupyter Notebook would be a better choice than a full IDE.\n",
    "# I've also learned that there are a lot of different ways to test code, and that there are a lot of different testing frameworks."
   ]
  }
 ],
 "metadata": {
  "kernelspec": {
   "display_name": "Python 3 (ipykernel)",
   "language": "python",
   "name": "python3"
  },
  "language_info": {
   "codemirror_mode": {
    "name": "ipython",
    "version": 3
   },
   "file_extension": ".py",
   "mimetype": "text/x-python",
   "name": "python",
   "nbconvert_exporter": "python",
   "pygments_lexer": "ipython3",
   "version": "3.11.5"
  }
 },
 "nbformat": 4,
 "nbformat_minor": 5
}
